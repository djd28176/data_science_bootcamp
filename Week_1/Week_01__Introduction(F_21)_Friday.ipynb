{
  "nbformat": 4,
  "nbformat_minor": 0,
  "metadata": {
    "colab": {
      "name": "Week_01:_Introduction(F-21)-Friday.ipynb",
      "provenance": []
    },
    "kernelspec": {
      "name": "python3",
      "display_name": "Python 3"
    },
    "language_info": {
      "name": "python"
    }
  },
  "cells": [
    {
      "cell_type": "markdown",
      "metadata": {
        "id": "7SjRpRssC2e-"
      },
      "source": [
        "# Introduction to Python"
      ]
    },
    {
      "cell_type": "code",
      "metadata": {
        "id": "B3-JWyWzCwrm",
        "colab": {
          "base_uri": "https://localhost:8080/"
        },
        "outputId": "60282d14-3931-4454-9096-660de548530b"
      },
      "source": [
        "print('Hello, world!')"
      ],
      "execution_count": null,
      "outputs": [
        {
          "output_type": "stream",
          "name": "stdout",
          "text": [
            "Hello, world!\n"
          ]
        }
      ]
    },
    {
      "cell_type": "markdown",
      "metadata": {
        "id": "TI2v4cRlDXaK"
      },
      "source": [
        "## Just for fun!\n",
        "\n",
        "Did you know that entering `import this` prints the 'Zen of Python'?\n",
        "\n",
        "The Zen of Python is a collection of 19 \"guiding principles\" for writing computer programs that influence the design of the Python programming language.\n",
        "\n",
        "It is always good to follow the zen even when you have an opportunity to show off your Python skills! :)"
      ]
    },
    {
      "cell_type": "code",
      "metadata": {
        "id": "wx9lQCM0DfmX",
        "colab": {
          "base_uri": "https://localhost:8080/"
        },
        "outputId": "f44f3b16-def9-4db9-9bfd-26caafc544c9"
      },
      "source": [
        "import this"
      ],
      "execution_count": null,
      "outputs": [
        {
          "output_type": "stream",
          "name": "stdout",
          "text": [
            "The Zen of Python, by Tim Peters\n",
            "\n",
            "Beautiful is better than ugly.\n",
            "Explicit is better than implicit.\n",
            "Simple is better than complex.\n",
            "Complex is better than complicated.\n",
            "Flat is better than nested.\n",
            "Sparse is better than dense.\n",
            "Readability counts.\n",
            "Special cases aren't special enough to break the rules.\n",
            "Although practicality beats purity.\n",
            "Errors should never pass silently.\n",
            "Unless explicitly silenced.\n",
            "In the face of ambiguity, refuse the temptation to guess.\n",
            "There should be one-- and preferably only one --obvious way to do it.\n",
            "Although that way may not be obvious at first unless you're Dutch.\n",
            "Now is better than never.\n",
            "Although never is often better than *right* now.\n",
            "If the implementation is hard to explain, it's a bad idea.\n",
            "If the implementation is easy to explain, it may be a good idea.\n",
            "Namespaces are one honking great idea -- let's do more of those!\n"
          ]
        }
      ]
    },
    {
      "cell_type": "markdown",
      "metadata": {
        "id": "ZPcJ_rESHwum"
      },
      "source": [
        "## The `help()` function\n",
        "\n",
        "The `help()` function in python is used to display the documentation of modules, functions, classes, etc.\n"
      ]
    },
    {
      "cell_type": "code",
      "metadata": {
        "id": "44SQH6V9DgVV",
        "colab": {
          "base_uri": "https://localhost:8080/"
        },
        "outputId": "6aa78644-bd41-4395-ebc2-7fca0a43e096"
      },
      "source": [
        "# help([object])\n",
        "\n",
        "help(print)"
      ],
      "execution_count": null,
      "outputs": [
        {
          "output_type": "stream",
          "name": "stdout",
          "text": [
            "Help on built-in function print in module builtins:\n",
            "\n",
            "print(...)\n",
            "    print(value, ..., sep=' ', end='\\n', file=sys.stdout, flush=False)\n",
            "    \n",
            "    Prints the values to a stream, or to sys.stdout by default.\n",
            "    Optional keyword arguments:\n",
            "    file:  a file-like object (stream); defaults to the current sys.stdout.\n",
            "    sep:   string inserted between values, default a space.\n",
            "    end:   string appended after the last value, default a newline.\n",
            "    flush: whether to forcibly flush the stream.\n",
            "\n"
          ]
        }
      ]
    },
    {
      "cell_type": "markdown",
      "metadata": {
        "id": "AypvTz1OJgEv"
      },
      "source": [
        "**NOTE:** If the `help()` function is passed without an argument,then the interactive help utility starts up on the console."
      ]
    },
    {
      "cell_type": "markdown",
      "metadata": {
        "id": "U2Gx61gZJ5oj"
      },
      "source": [
        "## Accessing the Attributes (/Methods) of any object\n",
        "\n",
        "In order to understand the pre-loaded attributes of an object, we use the `dir()` function."
      ]
    },
    {
      "cell_type": "code",
      "metadata": {
        "id": "HVLY2TTyJuYy",
        "colab": {
          "base_uri": "https://localhost:8080/"
        },
        "outputId": "68513fd1-f540-4123-8ed4-3712d850c8bc"
      },
      "source": [
        "# import [library]\n",
        "# dir([library])\n",
        "\n",
        "import math\n",
        "dir(math)"
      ],
      "execution_count": null,
      "outputs": [
        {
          "output_type": "execute_result",
          "data": {
            "text/plain": [
              "['__doc__',\n",
              " '__loader__',\n",
              " '__name__',\n",
              " '__package__',\n",
              " '__spec__',\n",
              " 'acos',\n",
              " 'acosh',\n",
              " 'asin',\n",
              " 'asinh',\n",
              " 'atan',\n",
              " 'atan2',\n",
              " 'atanh',\n",
              " 'ceil',\n",
              " 'copysign',\n",
              " 'cos',\n",
              " 'cosh',\n",
              " 'degrees',\n",
              " 'e',\n",
              " 'erf',\n",
              " 'erfc',\n",
              " 'exp',\n",
              " 'expm1',\n",
              " 'fabs',\n",
              " 'factorial',\n",
              " 'floor',\n",
              " 'fmod',\n",
              " 'frexp',\n",
              " 'fsum',\n",
              " 'gamma',\n",
              " 'gcd',\n",
              " 'hypot',\n",
              " 'inf',\n",
              " 'isclose',\n",
              " 'isfinite',\n",
              " 'isinf',\n",
              " 'isnan',\n",
              " 'ldexp',\n",
              " 'lgamma',\n",
              " 'log',\n",
              " 'log10',\n",
              " 'log1p',\n",
              " 'log2',\n",
              " 'modf',\n",
              " 'nan',\n",
              " 'pi',\n",
              " 'pow',\n",
              " 'radians',\n",
              " 'remainder',\n",
              " 'sin',\n",
              " 'sinh',\n",
              " 'sqrt',\n",
              " 'tan',\n",
              " 'tanh',\n",
              " 'tau',\n",
              " 'trunc']"
            ]
          },
          "metadata": {},
          "execution_count": 4
        }
      ]
    },
    {
      "cell_type": "markdown",
      "metadata": {
        "id": "RKJPIBVeQ-Rr"
      },
      "source": [
        "## Understanding data types in Python\n",
        "\n",
        "Python has the following data types built-in by default:\n",
        "\n",
        "Text: `str`\n",
        "\n",
        "Numeric: `int`, `float`, `complex`\n",
        "\n",
        "Sequence: `list`, `tuple`, `range`\n",
        "\n",
        "Mapping: `dict`\n",
        "\n",
        "Set: `set`, `frozenset`\n",
        "\n",
        "Boolean: `bool`\n",
        "\n",
        "Binary: `bytes`, `bytearray`, `memoryview`"
      ]
    },
    {
      "cell_type": "code",
      "metadata": {
        "id": "jWGwNMZ3SfpC",
        "colab": {
          "base_uri": "https://localhost:8080/"
        },
        "outputId": "90b92dee-1a13-477a-accc-55d145c191b7"
      },
      "source": [
        "# type(variable) prints the data type of the variable. In this case, string\n",
        "\n",
        "name = 'Jimmy ' + 'Fallon'\n",
        "\n",
        "print(name)\n",
        "print(type(name))"
      ],
      "execution_count": null,
      "outputs": [
        {
          "output_type": "stream",
          "name": "stdout",
          "text": [
            "Jimmy Fallon\n",
            "<class 'str'>\n"
          ]
        }
      ]
    },
    {
      "cell_type": "markdown",
      "metadata": {
        "id": "c9H2KIZrTP8x"
      },
      "source": [
        "**NOTE:** The initialization of datat type to a particular variable happens automaticaly when we assign a value to a variable."
      ]
    },
    {
      "cell_type": "code",
      "metadata": {
        "id": "zd7DOnqVSyNv",
        "colab": {
          "base_uri": "https://localhost:8080/"
        },
        "outputId": "40ea8821-3508-4d60-f166-50d19594e9b4"
      },
      "source": [
        "# class integer\n",
        "\n",
        "x = 10\n",
        "print(x)\n",
        "\n",
        "print(type(x))"
      ],
      "execution_count": null,
      "outputs": [
        {
          "output_type": "stream",
          "name": "stdout",
          "text": [
            "10\n",
            "<class 'int'>\n"
          ]
        }
      ]
    },
    {
      "cell_type": "code",
      "metadata": {
        "id": "li1jP3axTX-l",
        "colab": {
          "base_uri": "https://localhost:8080/"
        },
        "outputId": "7c75027e-308b-48bf-cca9-2ff05f7469b3"
      },
      "source": [
        "# class float\n",
        "\n",
        "decimal = 0.690000\n",
        "print(decimal)\n",
        "\n",
        "print(type(decimal))"
      ],
      "execution_count": null,
      "outputs": [
        {
          "output_type": "stream",
          "name": "stdout",
          "text": [
            "0.69\n",
            "<class 'float'>\n"
          ]
        }
      ]
    },
    {
      "cell_type": "code",
      "metadata": {
        "id": "IUflSg0FTjcG",
        "colab": {
          "base_uri": "https://localhost:8080/"
        },
        "outputId": "ac14f54e-554a-4b2a-e950-5cfe70f49edb"
      },
      "source": [
        "# class list\n",
        "\n",
        "groceries = ['apples', 20, 'cake mix', 'kitchen roll']\n",
        "print(groceries)\n",
        "\n",
        "print(type(groceries))"
      ],
      "execution_count": null,
      "outputs": [
        {
          "output_type": "stream",
          "name": "stdout",
          "text": [
            "['apples', 20, 'cake mix', 'kitchen roll']\n",
            "<class 'list'>\n"
          ]
        }
      ]
    },
    {
      "cell_type": "code",
      "metadata": {
        "id": "ZqWeUPXVT2J4",
        "colab": {
          "base_uri": "https://localhost:8080/"
        },
        "outputId": "b0722f58-cd08-42c1-bfba-3ab8d26b3133"
      },
      "source": [
        "# class list, but tuples\n",
        "\n",
        "a = [(1, 2), (3, 4, 5), (6, 7)]\n",
        "print(type(a))"
      ],
      "execution_count": null,
      "outputs": [
        {
          "output_type": "stream",
          "name": "stdout",
          "text": [
            "<class 'list'>\n"
          ]
        }
      ]
    },
    {
      "cell_type": "code",
      "metadata": {
        "colab": {
          "base_uri": "https://localhost:8080/"
        },
        "id": "0rQYNh1esJmN",
        "outputId": "30bf436d-0f5c-4671-abe5-1dfa39e15e4e"
      },
      "source": [
        "x = ('Apple', 'Tim', 'iPhone')\n",
        "print(type(x))"
      ],
      "execution_count": null,
      "outputs": [
        {
          "output_type": "stream",
          "name": "stdout",
          "text": [
            "<class 'tuple'>\n"
          ]
        }
      ]
    },
    {
      "cell_type": "code",
      "metadata": {
        "id": "JqynSwC0ULb_",
        "colab": {
          "base_uri": "https://localhost:8080/"
        },
        "outputId": "9ec45924-2b73-4ad5-e3df-feae8651c726"
      },
      "source": [
        "# class set\n",
        "\n",
        "sets = set((10, 2, 3, 6876))\n",
        "print(sets)\n",
        "\n",
        "print(type(sets))"
      ],
      "execution_count": null,
      "outputs": [
        {
          "output_type": "stream",
          "name": "stdout",
          "text": [
            "{3, 10, 2, 6876}\n",
            "<class 'set'>\n"
          ]
        }
      ]
    },
    {
      "cell_type": "code",
      "metadata": {
        "id": "tzzxfQLIUTc5",
        "colab": {
          "base_uri": "https://localhost:8080/"
        },
        "outputId": "303d621b-8e2a-410b-d167-7a0d32b8057c"
      },
      "source": [
        "# class dictionary\n",
        "\n",
        "hpc = {'Harry': '10', 'Ronald':'Weasley', 'Snape':8}\n",
        "\n",
        "print(hpc)\n",
        "print(type(hpc))"
      ],
      "execution_count": null,
      "outputs": [
        {
          "output_type": "stream",
          "name": "stdout",
          "text": [
            "{'Harry': '10', 'Ronald': 'Weasley', 'Snape': 8}\n",
            "<class 'dict'>\n"
          ]
        }
      ]
    },
    {
      "cell_type": "code",
      "metadata": {
        "id": "lE-8ouBSUySo",
        "colab": {
          "base_uri": "https://localhost:8080/"
        },
        "outputId": "137eef5c-179e-4000-bc60-e7effacfd1b0"
      },
      "source": [
        "# class boolean\n",
        "\n",
        "boolean = True\n",
        "print(type(boolean))\n",
        "\n",
        "print(bool(-2.3))"
      ],
      "execution_count": null,
      "outputs": [
        {
          "output_type": "stream",
          "name": "stdout",
          "text": [
            "<class 'bool'>\n",
            "True\n"
          ]
        }
      ]
    },
    {
      "cell_type": "code",
      "metadata": {
        "id": "K6lHW02cVC6f",
        "colab": {
          "base_uri": "https://localhost:8080/"
        },
        "outputId": "bbcf2603-68fb-442b-95a7-a468008eac31"
      },
      "source": [
        "#None type\n",
        "\n",
        "z = None\n",
        "print(type(z))"
      ],
      "execution_count": null,
      "outputs": [
        {
          "output_type": "stream",
          "name": "stdout",
          "text": [
            "<class 'NoneType'>\n"
          ]
        }
      ]
    },
    {
      "cell_type": "markdown",
      "metadata": {
        "id": "43k3bdBWVLdl"
      },
      "source": [
        "## Commonly used operators in Python"
      ]
    },
    {
      "cell_type": "code",
      "metadata": {
        "id": "hRgFK9ZzVFrp",
        "colab": {
          "base_uri": "https://localhost:8080/"
        },
        "outputId": "4fdc4a48-8933-41db-8201-d12fc668280f"
      },
      "source": [
        "a = 6.3\n",
        "b = 5.2\n",
        "\n",
        "print('Add: ', a+b)\n",
        "print('Subtract: ', a-b)\n",
        "print('Divide: ', a/b)\n",
        "print('Multiply: ', a*b)\n",
        "print('Floor Division: ', a//b)\n",
        "print('Mod: ', a%b)       \n",
        "print('Power: ', a**b)"
      ],
      "execution_count": null,
      "outputs": [
        {
          "output_type": "stream",
          "name": "stdout",
          "text": [
            "Add:  11.5\n",
            "Subtract:  1.0999999999999996\n",
            "Divide:  1.2115384615384615\n",
            "Multiply:  32.76\n",
            "Floor Division:  1.0\n",
            "Mod:  1.0999999999999996\n",
            "Power:  14340.716724131638\n"
          ]
        }
      ]
    },
    {
      "cell_type": "markdown",
      "metadata": {
        "id": "epgvbOtWVuId"
      },
      "source": [
        "### A few tricks"
      ]
    },
    {
      "cell_type": "code",
      "metadata": {
        "id": "NB9-F6tCVpMO",
        "colab": {
          "base_uri": "https://localhost:8080/"
        },
        "outputId": "00f749af-76fe-46b4-f22d-e3cea2258f04"
      },
      "source": [
        "a = 10\n",
        "b = '10&2'\n",
        "\n",
        "print('Before swap: ',a , b)\n",
        "\n",
        "a,b = b,a\n",
        "print('After swap: ', a, b)"
      ],
      "execution_count": null,
      "outputs": [
        {
          "output_type": "stream",
          "name": "stdout",
          "text": [
            "Before swap:  10 10&2\n",
            "After swap:  10&2 10\n"
          ]
        }
      ]
    },
    {
      "cell_type": "code",
      "metadata": {
        "id": "SyWaqfHhV6L5",
        "colab": {
          "base_uri": "https://localhost:8080/"
        },
        "outputId": "be460c80-1b59-42ea-d7c2-e3c575f622d1"
      },
      "source": [
        "a, *b = 34, 23, 10\n",
        "\n",
        "print(type(a))\n",
        "print(type(b))"
      ],
      "execution_count": null,
      "outputs": [
        {
          "output_type": "stream",
          "name": "stdout",
          "text": [
            "<class 'int'>\n",
            "<class 'list'>\n"
          ]
        }
      ]
    },
    {
      "cell_type": "markdown",
      "metadata": {
        "id": "8ttnUtpLWg5W"
      },
      "source": [
        "## Type casting in Python\n",
        "\n",
        "Type Casting is the method to convert the variable data type into a certain data type in order for the operation required to be performed by users."
      ]
    },
    {
      "cell_type": "code",
      "metadata": {
        "id": "SzT49t-NWMuS",
        "colab": {
          "base_uri": "https://localhost:8080/"
        },
        "outputId": "1c9edc13-694c-4351-f302-76be840214d1"
      },
      "source": [
        "# switching from string to integer\n",
        "\n",
        "x = '10'\n",
        "print(type(x))\n",
        "\n",
        "print('String to Integer: ', int(x))\n",
        "\n",
        "x = int(x)\n",
        "print(type(x))"
      ],
      "execution_count": null,
      "outputs": [
        {
          "output_type": "stream",
          "name": "stdout",
          "text": [
            "<class 'str'>\n",
            "String to Integer:  10\n",
            "<class 'int'>\n"
          ]
        }
      ]
    },
    {
      "cell_type": "code",
      "metadata": {
        "id": "bDZE0cGjW2RG",
        "colab": {
          "base_uri": "https://localhost:8080/"
        },
        "outputId": "15651624-596b-45c1-8990-1738859f44e0"
      },
      "source": [
        "# switching from string to float\n",
        "\n",
        "print(float(x))\n",
        "x = float(x)\n",
        "print(type(x))"
      ],
      "execution_count": null,
      "outputs": [
        {
          "output_type": "stream",
          "name": "stdout",
          "text": [
            "10.0\n",
            "<class 'float'>\n"
          ]
        }
      ]
    },
    {
      "cell_type": "code",
      "metadata": {
        "id": "ByWyHb2yXGGh",
        "colab": {
          "base_uri": "https://localhost:8080/"
        },
        "outputId": "a7f4cd15-f562-425b-8e75-152518a9aedc"
      },
      "source": [
        "# switching from integer to string\n",
        "\n",
        "x = str(1) + '0'\n",
        "x = int(x)\n",
        "print(type(x))\n",
        "print(x)"
      ],
      "execution_count": null,
      "outputs": [
        {
          "output_type": "stream",
          "name": "stdout",
          "text": [
            "<class 'int'>\n",
            "10\n"
          ]
        }
      ]
    },
    {
      "cell_type": "code",
      "metadata": {
        "id": "-tbNz0ceXS4O",
        "colab": {
          "base_uri": "https://localhost:8080/"
        },
        "outputId": "c3f0295f-82ea-4ba3-ccf3-7d05ee766bb2"
      },
      "source": [
        "# switching from set to list\n",
        "\n",
        "s = set((1, 2, 3, 5, 8))\n",
        "\n",
        "list_s = list(s)\n",
        "print(list_s)\n",
        "print(type(list_s))"
      ],
      "execution_count": null,
      "outputs": [
        {
          "output_type": "stream",
          "name": "stdout",
          "text": [
            "[1, 2, 3, 5, 8]\n",
            "<class 'list'>\n"
          ]
        }
      ]
    },
    {
      "cell_type": "code",
      "metadata": {
        "id": "92FyE9vyXwgX",
        "colab": {
          "base_uri": "https://localhost:8080/"
        },
        "outputId": "af29d11f-f31f-4692-b6c3-759641cdecef"
      },
      "source": [
        "# switching from a tuple to list\n",
        "\n",
        "tuples = ((1, 2), (4, 'Ginny'), (7, 'Fred'))\n",
        "\n",
        "list_tup = list(tuples)\n",
        "\n",
        "print(list_tup)"
      ],
      "execution_count": null,
      "outputs": [
        {
          "output_type": "stream",
          "name": "stdout",
          "text": [
            "[(1, 2), (4, 'Ginny'), (7, 'Fred')]\n"
          ]
        }
      ]
    },
    {
      "cell_type": "code",
      "metadata": {
        "id": "667dU9Hgennd"
      },
      "source": [
        "s = set((1,2,3,4))\n"
      ],
      "execution_count": null,
      "outputs": []
    },
    {
      "cell_type": "code",
      "metadata": {
        "id": "fI4hrIYfYLYK",
        "colab": {
          "base_uri": "https://localhost:8080/"
        },
        "outputId": "7ba1ac51-a3bd-488e-df42-2c6345c3d3d1"
      },
      "source": [
        "# ascii value of alpha numeric characters\n",
        "\n",
        "print(chr(120))"
      ],
      "execution_count": null,
      "outputs": [
        {
          "output_type": "stream",
          "name": "stdout",
          "text": [
            "x\n"
          ]
        }
      ]
    },
    {
      "cell_type": "code",
      "metadata": {
        "id": "15IRjR0fYWuA",
        "colab": {
          "base_uri": "https://localhost:8080/"
        },
        "outputId": "add66ee5-c353-4729-cee7-0a09b749f00a"
      },
      "source": [
        "# string to ascii\n",
        "\n",
        "print(ord('x'))"
      ],
      "execution_count": null,
      "outputs": [
        {
          "output_type": "stream",
          "name": "stdout",
          "text": [
            "120\n"
          ]
        }
      ]
    },
    {
      "cell_type": "markdown",
      "metadata": {
        "id": "FOOWQ-hpYfDj"
      },
      "source": [
        "## Using in-built functions"
      ]
    },
    {
      "cell_type": "markdown",
      "metadata": {
        "id": "ptbOxtLzYkwt"
      },
      "source": [
        "### Using the `random` method\n",
        "\n",
        "This method is used to geenrate 'random' values or ranges depending on the requirement."
      ]
    },
    {
      "cell_type": "code",
      "metadata": {
        "id": "Q2-bbLCQYYmo",
        "colab": {
          "base_uri": "https://localhost:8080/"
        },
        "outputId": "14459e2c-59d5-4308-939c-829ec4fa108e"
      },
      "source": [
        "import random\n",
        "\n",
        "# adding the start and end paramaters\n",
        "\n",
        "print(random.randint(5, 10))"
      ],
      "execution_count": null,
      "outputs": [
        {
          "output_type": "stream",
          "name": "stdout",
          "text": [
            "5\n"
          ]
        }
      ]
    },
    {
      "cell_type": "markdown",
      "metadata": {
        "id": "dOhlnJ3cZOG_"
      },
      "source": [
        "### Using the `math` method\n",
        "\n",
        "You can use this method(/library) to make mathematical operations much easier."
      ]
    },
    {
      "cell_type": "code",
      "metadata": {
        "id": "OLn6RTezZAQo",
        "colab": {
          "base_uri": "https://localhost:8080/"
        },
        "outputId": "21405fcd-a0cc-4bf2-b917-15afacfb4611"
      },
      "source": [
        "import math\n",
        "\n",
        "print('inbuilt value of pi: ', math.pi)\n",
        "\n",
        "print('Square root of 2209: ', math.sqrt(2209))\n",
        "print('Ceiling Value: ', math.floor(3.1415))"
      ],
      "execution_count": null,
      "outputs": [
        {
          "output_type": "stream",
          "name": "stdout",
          "text": [
            "inbuilt value of pi:  3.141592653589793\n",
            "Square root of 2209:  47.0\n",
            "Ceiling Value:  3\n"
          ]
        }
      ]
    },
    {
      "cell_type": "markdown",
      "metadata": {
        "id": "AEeN-tSCaPun"
      },
      "source": [
        "### Using the `datetime` method\n",
        "\n",
        "Yeah, nothing fancy about it. Just does what the name mentions."
      ]
    },
    {
      "cell_type": "code",
      "metadata": {
        "id": "17f721kKZp2s",
        "colab": {
          "base_uri": "https://localhost:8080/"
        },
        "outputId": "c6ee0798-3a36-4d1a-fb28-2782bad2b76b"
      },
      "source": [
        "import datetime\n",
        "\n",
        "date = datetime.datetime.now()\n",
        "\n",
        "print(date)\n",
        "print(type(date))"
      ],
      "execution_count": null,
      "outputs": [
        {
          "output_type": "stream",
          "name": "stdout",
          "text": [
            "2021-09-24 17:08:10.582879\n",
            "<class 'datetime.datetime'>\n"
          ]
        }
      ]
    },
    {
      "cell_type": "markdown",
      "metadata": {
        "id": "Z-jk8S03aqlY"
      },
      "source": [
        "## Lists!"
      ]
    },
    {
      "cell_type": "code",
      "metadata": {
        "id": "_9wnAlTpae_u",
        "colab": {
          "base_uri": "https://localhost:8080/"
        },
        "outputId": "7ade7bf8-5c80-4d6c-e694-a505cee5163c"
      },
      "source": [
        "# initializing a list\n",
        "list_1 = list()\n",
        "print(list_1)\n",
        "\n",
        "# the data type of the variable\n",
        "print(type(list_1))\n",
        "\n",
        "# a numeric list\n",
        "list_num = list((1, 2, 3, 4, 5))\n",
        "print(list_num)\n",
        "\n",
        "# list with objects\n",
        "list_object = ['1', 81, '%', 'Fort Greene']\n",
        "print(list_object)\n",
        "\n",
        "# The operations are automatically computed when mentioned inside the list\n",
        "list_ops = [1*3, 'app'+'lication', 3//2]\n",
        "print(list_ops)"
      ],
      "execution_count": null,
      "outputs": [
        {
          "output_type": "stream",
          "name": "stdout",
          "text": [
            "[]\n",
            "<class 'list'>\n",
            "[1, 2, 3, 4, 5]\n",
            "['1', 81, '%', 'Fort Greene']\n",
            "[3, 'application', 1]\n"
          ]
        }
      ]
    },
    {
      "cell_type": "markdown",
      "metadata": {
        "id": "UM8zUVyNboCx"
      },
      "source": [
        "### Accessing the values from a list\n",
        "\n",
        "**Fun fact:** Python does allow negative indexing!"
      ]
    },
    {
      "cell_type": "code",
      "metadata": {
        "id": "5gwYaHT0bZPC",
        "colab": {
          "base_uri": "https://localhost:8080/",
          "height": 35
        },
        "outputId": "a89480b4-10a5-41de-a043-d5c0fa4eb259"
      },
      "source": [
        "list_object = ['1', 81, '%', 'Fort Greene']\n",
        "\n",
        "list_object[3]"
      ],
      "execution_count": null,
      "outputs": [
        {
          "output_type": "execute_result",
          "data": {
            "application/vnd.google.colaboratory.intrinsic+json": {
              "type": "string"
            },
            "text/plain": [
              "'Fort Greene'"
            ]
          },
          "metadata": {},
          "execution_count": 71
        }
      ]
    },
    {
      "cell_type": "code",
      "metadata": {
        "id": "9ipofY0Fb0U1",
        "colab": {
          "base_uri": "https://localhost:8080/"
        },
        "outputId": "c87d8d30-c401-428c-bba8-b110f40136b4"
      },
      "source": [
        "# executing all the values from the beginning to the end\n",
        "\n",
        "print(list_object[1:])"
      ],
      "execution_count": null,
      "outputs": [
        {
          "output_type": "stream",
          "name": "stdout",
          "text": [
            "[81, '%', 'Fort Greene']\n"
          ]
        }
      ]
    },
    {
      "cell_type": "code",
      "metadata": {
        "id": "Rpr8D7wSg_HV",
        "colab": {
          "base_uri": "https://localhost:8080/"
        },
        "outputId": "4d3375e7-126f-4f7e-9bb1-529b92803866"
      },
      "source": [
        "print(list_object[:3])"
      ],
      "execution_count": null,
      "outputs": [
        {
          "output_type": "stream",
          "name": "stdout",
          "text": [
            "['1', 81, '%']\n"
          ]
        }
      ]
    },
    {
      "cell_type": "code",
      "metadata": {
        "id": "xKJh-xDab_Bc",
        "colab": {
          "base_uri": "https://localhost:8080/"
        },
        "outputId": "a1ebd609-24aa-402c-ed7e-1a9e56b929c4"
      },
      "source": [
        "# let's say that we want we to skip a few values in between\n",
        "\n",
        "print(list_object[0:7687:2])"
      ],
      "execution_count": null,
      "outputs": [
        {
          "output_type": "stream",
          "name": "stdout",
          "text": [
            "['1', '%']\n"
          ]
        }
      ]
    },
    {
      "cell_type": "code",
      "metadata": {
        "id": "vZrPD263cJ5r",
        "colab": {
          "base_uri": "https://localhost:8080/"
        },
        "outputId": "8c5ffc9a-0514-4d46-91fb-29957a855bd9"
      },
      "source": [
        "# negative ranges\n",
        "\n",
        "print(list_object[-4:])"
      ],
      "execution_count": null,
      "outputs": [
        {
          "output_type": "stream",
          "name": "stdout",
          "text": [
            "['1', 81, '%', 'Fort Greene']\n"
          ]
        }
      ]
    },
    {
      "cell_type": "markdown",
      "metadata": {
        "id": "L0V-j6SucW38"
      },
      "source": [
        "### Modifying lists"
      ]
    },
    {
      "cell_type": "code",
      "metadata": {
        "id": "vkWrEGdhcOaY",
        "colab": {
          "base_uri": "https://localhost:8080/"
        },
        "outputId": "c7d2789a-2ae5-4fe9-fa1a-179a057ea9b6"
      },
      "source": [
        "# make changes in the list\n",
        "\n",
        "list_object.extend([0,1.2])\n",
        "print(list_object)\n",
        "\n",
        "\n",
        "# make range of values changes\n",
        "\n",
        "subset_items = [1,52,798,8]\n",
        "list_object[0:4] = subset_items\n",
        "print(list_object)"
      ],
      "execution_count": null,
      "outputs": [
        {
          "output_type": "stream",
          "name": "stdout",
          "text": [
            "['1', 81, '%', 'Fort Greene', 0, 1.2]\n",
            "[1, 52, 798, 8, 0, 1.2]\n"
          ]
        }
      ]
    },
    {
      "cell_type": "code",
      "metadata": {
        "id": "gVXZXxmRc_h5",
        "colab": {
          "base_uri": "https://localhost:8080/"
        },
        "outputId": "f41e536f-c3d8-4fb3-f177-a49b2843fe94"
      },
      "source": [
        "# skipping changes\n",
        "\n",
        "subset = ['2','45555','12']\n",
        "list_object[0:5:2] = subset\n",
        "print(list_object)"
      ],
      "execution_count": null,
      "outputs": [
        {
          "output_type": "stream",
          "name": "stdout",
          "text": [
            "['2', 52, '45555', 8, '12', 1.2]\n"
          ]
        }
      ]
    },
    {
      "cell_type": "code",
      "metadata": {
        "id": "sV2V_Y_qdD9I",
        "colab": {
          "base_uri": "https://localhost:8080/"
        },
        "outputId": "e2c05358-95db-4dde-fdf7-d785d819c4e1"
      },
      "source": [
        "# delete an element\n",
        "\n",
        "list_object = [1, 2, 12, 6, 112, 3, 4, 5, 7]\n",
        "\n",
        "# can be used as a stack and/or a queue\n",
        "\n",
        "print(list_object)\n",
        "list_object.pop()\n",
        "print(list_object)\n",
        "\n",
        "list_object.pop(2)\n",
        "print(list_object)"
      ],
      "execution_count": null,
      "outputs": [
        {
          "output_type": "stream",
          "name": "stdout",
          "text": [
            "[1, 2, 12, 6, 112, 3, 4, 5, 7]\n",
            "[1, 2, 12, 6, 112, 3, 4, 5]\n",
            "[1, 2, 6, 112, 3, 4, 5]\n"
          ]
        }
      ]
    },
    {
      "cell_type": "markdown",
      "metadata": {
        "id": "mEAUkcSHdd0b"
      },
      "source": [
        "What do we do if there is an error while removing a value from the list and the list is empty?"
      ]
    },
    {
      "cell_type": "code",
      "metadata": {
        "id": "0RVeKOizdQqL",
        "colab": {
          "base_uri": "https://localhost:8080/"
        },
        "outputId": "75389a6f-fdad-4777-aa15-a482425e2ee3"
      },
      "source": [
        "# we use the try except functionality\n",
        "\n",
        "try:\n",
        "  list_object.remove(10)\n",
        "\n",
        "except:\n",
        "  print('Element not in the list')"
      ],
      "execution_count": null,
      "outputs": [
        {
          "output_type": "stream",
          "name": "stdout",
          "text": [
            "Element not in the list\n"
          ]
        }
      ]
    },
    {
      "cell_type": "markdown",
      "metadata": {
        "id": "BC8M5ZqudzqK"
      },
      "source": [
        "## The `for` loop"
      ]
    },
    {
      "cell_type": "code",
      "metadata": {
        "id": "eVnWXhDfdq7V",
        "colab": {
          "base_uri": "https://localhost:8080/"
        },
        "outputId": "37ecc0eb-2cd8-40f3-9b19-fd50666fea00"
      },
      "source": [
        "for i in range(0,5):\n",
        "  print(i, end=' ')"
      ],
      "execution_count": null,
      "outputs": [
        {
          "output_type": "stream",
          "name": "stdout",
          "text": [
            "0 1 2 3 4 "
          ]
        }
      ]
    },
    {
      "cell_type": "code",
      "metadata": {
        "id": "BDA6B-C9fNI7",
        "colab": {
          "base_uri": "https://localhost:8080/"
        },
        "outputId": "7e6404f0-282d-4cf0-bd95-a7f9942f8303"
      },
      "source": [
        "print('Adding the step parameter ')\n",
        "\n",
        "for i in range(10,2,-1):\n",
        "  print(i, end=' ')"
      ],
      "execution_count": null,
      "outputs": [
        {
          "output_type": "stream",
          "name": "stdout",
          "text": [
            "Adding the step parameter \n",
            "10 9 8 7 6 5 4 3 "
          ]
        }
      ]
    },
    {
      "cell_type": "code",
      "metadata": {
        "id": "-HopnRQRfSq8",
        "colab": {
          "base_uri": "https://localhost:8080/"
        },
        "outputId": "e1a06fa7-8f62-4bc1-801b-ccd047eb2ac7"
      },
      "source": [
        "print('Printing the values in the format of a list ')\n",
        "\n",
        "a = [1,2,3,4,5]\n",
        "for i in a:\n",
        "  print(i)"
      ],
      "execution_count": null,
      "outputs": [
        {
          "output_type": "stream",
          "name": "stdout",
          "text": [
            "Printing the values in the format of a list \n",
            "1\n",
            "2\n",
            "3\n",
            "4\n",
            "5\n"
          ]
        }
      ]
    },
    {
      "cell_type": "code",
      "metadata": {
        "id": "ZyhGZlSufaUZ",
        "colab": {
          "base_uri": "https://localhost:8080/"
        },
        "outputId": "8b881928-913e-4a33-9757-6324128df1c4"
      },
      "source": [
        "print('One-line for loop')\n",
        "\n",
        "sum_upto_10 = [i for i in range(11)]\n",
        "print(sum_upto_10)"
      ],
      "execution_count": null,
      "outputs": [
        {
          "output_type": "stream",
          "name": "stdout",
          "text": [
            "One-line for loop\n",
            "[0, 1, 2, 3, 4, 5, 6, 7, 8, 9, 10]\n"
          ]
        }
      ]
    },
    {
      "cell_type": "code",
      "metadata": {
        "id": "U8xDb2JEfhG_",
        "colab": {
          "base_uri": "https://localhost:8080/"
        },
        "outputId": "c5403a0e-b14e-491d-93fa-f00f79f9c247"
      },
      "source": [
        "print('One-linear nested for loop Matrix Multiplication')\n",
        "\n",
        "matrix_mul = [j*i for i in range(5) for j in range(5,10)]\n",
        "print('Matrix Looks like: ', matrix_mul)"
      ],
      "execution_count": null,
      "outputs": [
        {
          "output_type": "stream",
          "name": "stdout",
          "text": [
            "One-linear nested for loop Matrix Multiplication\n",
            "Matrix Looks like:  [0, 0, 0, 0, 0, 5, 6, 7, 8, 9, 10, 12, 14, 16, 18, 15, 18, 21, 24, 27, 20, 24, 28, 32, 36]\n"
          ]
        }
      ]
    },
    {
      "cell_type": "code",
      "metadata": {
        "id": "T3mYXwOpfuqX",
        "colab": {
          "base_uri": "https://localhost:8080/"
        },
        "outputId": "38711635-3fc0-412a-8d62-40ec41fdbf01"
      },
      "source": [
        "a = ['Hello', 'world', '!']\n",
        "\n",
        "# iterable method 1\n",
        "print('Iterable Method 1: ')\n",
        "for i in range(len(a)):\n",
        "  print(i, a[i])\n",
        "\n",
        "# iterable method 2\n",
        "print('\\nIterable Method 2: ')\n",
        "for i in a:\n",
        "  print(i)\n",
        "\n",
        "# (iterable?) method 3\n",
        "print('\\nMethod 3: ')\n",
        "print(list(enumerate(a)))"
      ],
      "execution_count": null,
      "outputs": [
        {
          "output_type": "stream",
          "name": "stdout",
          "text": [
            "Iterable Method 1: \n",
            "0 Hello\n",
            "1 world\n",
            "2 !\n",
            "\n",
            "Iterable Method 2: \n",
            "Hello\n",
            "world\n",
            "!\n",
            "\n",
            "Method 3: \n",
            "[(0, 'Hello'), (1, 'world'), (2, '!')]\n"
          ]
        }
      ]
    },
    {
      "cell_type": "markdown",
      "metadata": {
        "id": "Ak9F4uRrg0n4"
      },
      "source": [
        "## Functions\n",
        "\n",
        "To define a function, use the `def` keyword followed by the name of the function with attributes."
      ]
    },
    {
      "cell_type": "code",
      "metadata": {
        "id": "048vzN1Ggkbg",
        "colab": {
          "base_uri": "https://localhost:8080/"
        },
        "outputId": "91b18836-b3c3-44d6-f141-702737ad5aba"
      },
      "source": [
        "def fizzBuzz():\n",
        "  \n",
        "  '''\n",
        "  Given a range print Fizz if divisible by 3, Buzz if divisible by 5 else FizzBuzz if divisible by 3 and 5\n",
        "  '''\n",
        "\n",
        "  n = int(input('Enter a number: '))\n",
        "  count = 1\n",
        "  while (count <= n):\n",
        "    string = ''\n",
        "    if (count %3 == 0):\n",
        "      string = 'Fizz'\n",
        "    if (count % 5 == 0):\n",
        "      string += 'Buzz'\n",
        "    print(count,string)\n",
        "    count +=1\n",
        "    \n",
        "fizzBuzz()"
      ],
      "execution_count": null,
      "outputs": [
        {
          "output_type": "stream",
          "name": "stdout",
          "text": [
            "Enter a number: 15\n",
            "1 \n",
            "2 \n",
            "3 Fizz\n",
            "4 \n",
            "5 Buzz\n",
            "6 Fizz\n",
            "7 \n",
            "8 \n",
            "9 Fizz\n",
            "10 Buzz\n",
            "11 \n",
            "12 Fizz\n",
            "13 \n",
            "14 \n",
            "15 FizzBuzz\n"
          ]
        }
      ]
    },
    {
      "cell_type": "code",
      "metadata": {
        "id": "xKoVLslfhIwF",
        "colab": {
          "base_uri": "https://localhost:8080/"
        },
        "outputId": "0ca186f2-4042-49fa-c91a-bfd7d84fa566"
      },
      "source": [
        "def fizzBuzz():\n",
        "  \n",
        "  '''\n",
        "  Same function as above with more if else conditions.\n",
        "  '''\n",
        "  \n",
        "  n = int(input('Enter a number: '))\n",
        "  count = 1\n",
        "  while(count <= n):\n",
        "    if (count % 5 == 0 and count % 3 == 0):\n",
        "      print(count,'Fizz Buzz')\n",
        "    elif (count % 3 == 0):\n",
        "      print(count,'Fizz')\n",
        "    elif (count % 5 == 0):\n",
        "      print(count,'Buzz')\n",
        "    else:\n",
        "      print(count)\n",
        "    count +=1\n",
        "\n",
        "fizzBuzz()"
      ],
      "execution_count": null,
      "outputs": [
        {
          "output_type": "stream",
          "name": "stdout",
          "text": [
            "Enter a number: 15\n",
            "1\n",
            "2\n",
            "3 Fizz\n",
            "4\n",
            "5 Buzz\n",
            "6 Fizz\n",
            "7\n",
            "8\n",
            "9 Fizz\n",
            "10 Buzz\n",
            "11\n",
            "12 Fizz\n",
            "13\n",
            "14\n",
            "15 Fizz Buzz\n"
          ]
        }
      ]
    },
    {
      "cell_type": "markdown",
      "metadata": {
        "id": "Hej1NI9LjM_U"
      },
      "source": [
        "## Dictionaries\n",
        "\n",
        "In the case of dictionaries, we use `key` and not indexes to refer elements in the dictionary."
      ]
    },
    {
      "cell_type": "code",
      "metadata": {
        "id": "zuUqQDD4hVVI",
        "colab": {
          "base_uri": "https://localhost:8080/"
        },
        "outputId": "b506be3a-4682-48af-f6b9-6dbdc7984607"
      },
      "source": [
        "# creating an empty dictionary\n",
        "dict_ = {}\n",
        "\n",
        "#dict_ = {key:value,key:value} \n",
        "# keys have to be in a set i.e., they are to be unique\n",
        "\n",
        "string = 'iamdictionaryiteratemeandseethefun'\n",
        "\n",
        "for ch in string:\n",
        "  if (ch in dict_):\n",
        "    dict_[ch] +=1\n",
        "\n",
        "  else:\n",
        "    dict_[ch] = 1\n",
        "\n",
        "for k,v in dict_.items():\n",
        "  # pass\n",
        "  print(f'Character {k} and its count {v}')"
      ],
      "execution_count": null,
      "outputs": [
        {
          "output_type": "stream",
          "name": "stdout",
          "text": [
            "Character i and its count 4\n",
            "Character a and its count 4\n",
            "Character m and its count 2\n",
            "Character d and its count 2\n",
            "Character c and its count 1\n",
            "Character t and its count 4\n",
            "Character o and its count 1\n",
            "Character n and its count 3\n",
            "Character r and its count 2\n",
            "Character y and its count 1\n",
            "Character e and its count 6\n",
            "Character s and its count 1\n",
            "Character h and its count 1\n",
            "Character f and its count 1\n",
            "Character u and its count 1\n"
          ]
        }
      ]
    },
    {
      "cell_type": "markdown",
      "metadata": {
        "id": "6_elLpZ6kiK8"
      },
      "source": [
        "**NOTE:** If we try updating for a key that is present the original value will be overwritten"
      ]
    },
    {
      "cell_type": "code",
      "metadata": {
        "id": "sN67bR2IkhBg",
        "colab": {
          "base_uri": "https://localhost:8080/",
          "height": 201
        },
        "outputId": "557d16c8-5841-4c2f-fbf4-963c5f133e83"
      },
      "source": [
        "# print value for some key\n",
        "\n",
        "# Hint: use .get or check for existence before access to avoid error like below\n",
        "\n",
        "print(dict_['z'])"
      ],
      "execution_count": null,
      "outputs": [
        {
          "output_type": "error",
          "ename": "KeyError",
          "evalue": "ignored",
          "traceback": [
            "\u001b[0;31m---------------------------------------------------------------------------\u001b[0m",
            "\u001b[0;31mKeyError\u001b[0m                                  Traceback (most recent call last)",
            "\u001b[0;32m<ipython-input-97-8876ad1be63d>\u001b[0m in \u001b[0;36m<module>\u001b[0;34m()\u001b[0m\n\u001b[1;32m      3\u001b[0m \u001b[0;31m# Hint: use .get or check for existence before access to avoid error like below\u001b[0m\u001b[0;34m\u001b[0m\u001b[0;34m\u001b[0m\u001b[0;34m\u001b[0m\u001b[0m\n\u001b[1;32m      4\u001b[0m \u001b[0;34m\u001b[0m\u001b[0m\n\u001b[0;32m----> 5\u001b[0;31m \u001b[0mprint\u001b[0m\u001b[0;34m(\u001b[0m\u001b[0mdict_\u001b[0m\u001b[0;34m[\u001b[0m\u001b[0;34m'z'\u001b[0m\u001b[0;34m]\u001b[0m\u001b[0;34m)\u001b[0m\u001b[0;34m\u001b[0m\u001b[0;34m\u001b[0m\u001b[0m\n\u001b[0m",
            "\u001b[0;31mKeyError\u001b[0m: 'z'"
          ]
        }
      ]
    },
    {
      "cell_type": "code",
      "metadata": {
        "id": "gkgH5jCblKe0",
        "colab": {
          "base_uri": "https://localhost:8080/"
        },
        "outputId": "b60208fa-beca-49bb-bb03-2d0ec5f5b33e"
      },
      "source": [
        "print(dict_.get('z'))"
      ],
      "execution_count": null,
      "outputs": [
        {
          "output_type": "stream",
          "name": "stdout",
          "text": [
            "None\n"
          ]
        }
      ]
    },
    {
      "cell_type": "markdown",
      "metadata": {
        "id": "WKesksqVnpSm"
      },
      "source": [
        "## Sorting\n",
        "\n",
        "For sorting a list, the data type of all the elements should be the same."
      ]
    },
    {
      "cell_type": "code",
      "metadata": {
        "id": "bZQltNt8lN0s",
        "colab": {
          "base_uri": "https://localhost:8080/"
        },
        "outputId": "55512bb5-5e6a-4cfc-951b-8c8f1f8850f9"
      },
      "source": [
        "list_ = ['a','3232','21332','bsaa','87','3231']\n",
        "print(list_)\n",
        "\n",
        "print('\\nAscending order: ')\n",
        "\n",
        "# the sorting is done only for the first character\n",
        "result = []\n",
        "for i in list_:\n",
        "  sum_ = 0\n",
        "  for j in i:\n",
        "    sum_ = ord(j)\n",
        "    break\n",
        "  result.append(sum_)\n",
        "\n",
        "# it checks the first character of the string\n",
        "# if there is a match, it proceeds further\n",
        "print('Before sorting')\n",
        "print(list_)\n",
        "print(result)\n",
        "\n",
        "print('---------------')\n",
        "print('After sorting')\n",
        "list_.sort()\n",
        "result.sort()\n",
        "print(list_)\n",
        "print(result)"
      ],
      "execution_count": null,
      "outputs": [
        {
          "output_type": "stream",
          "name": "stdout",
          "text": [
            "['a', '3232', '21332', 'bsaa', '87', '3231']\n",
            "\n",
            "Ascending order: \n",
            "Before sorting\n",
            "['a', '3232', '21332', 'bsaa', '87', '3231']\n",
            "[97, 51, 50, 98, 56, 51]\n",
            "---------------\n",
            "After sorting\n",
            "['21332', '3231', '3232', '87', 'a', 'bsaa']\n",
            "[50, 51, 51, 56, 97, 98]\n"
          ]
        }
      ]
    },
    {
      "cell_type": "markdown",
      "metadata": {
        "id": "RHL7DdFyobhP"
      },
      "source": [
        "### Difference between `sort()` and `sorted()`\n",
        "\n",
        "`sort()` function will modify the list it is called on. The function modifies/sorts the list in-place and has no return value.\n",
        "\n",
        "On the other hand, `sorted()` function will create a new list containing a sorted version of the list it is given."
      ]
    },
    {
      "cell_type": "code",
      "metadata": {
        "id": "f62xRfAAoRsc",
        "colab": {
          "base_uri": "https://localhost:8080/"
        },
        "outputId": "42dbb328-7fe5-4959-fcf1-13aeeb1589bc"
      },
      "source": [
        "a = [1,3,2]\n",
        "print('a: ', a)\n",
        "b = sorted(a)\n",
        "print('a after sorted(): ',a)\n",
        "print('\\nb: ', b)\n",
        "a.sort()\n",
        "print('a after sort(): ', a)"
      ],
      "execution_count": null,
      "outputs": [
        {
          "output_type": "stream",
          "name": "stdout",
          "text": [
            "a:  [1, 3, 2]\n",
            "a after sorted():  [1, 3, 2]\n",
            "\n",
            "b:  [1, 2, 3]\n",
            "a after sort():  [1, 2, 3]\n"
          ]
        }
      ]
    },
    {
      "cell_type": "markdown",
      "metadata": {
        "id": "Qc_uhmN7o9wf"
      },
      "source": [
        "## `lambda` functions in Python"
      ]
    },
    {
      "cell_type": "code",
      "metadata": {
        "id": "CuLsIVTpourk",
        "colab": {
          "base_uri": "https://localhost:8080/"
        },
        "outputId": "ccaf06ac-adb8-4b9f-9466-d52883af6bfe"
      },
      "source": [
        "add = lambda a, b, c: a+b+c\n",
        "print(add(5, 6, 2))"
      ],
      "execution_count": null,
      "outputs": [
        {
          "output_type": "stream",
          "name": "stdout",
          "text": [
            "13\n"
          ]
        }
      ]
    },
    {
      "cell_type": "code",
      "metadata": {
        "id": "NakEwD_bpFKh",
        "colab": {
          "base_uri": "https://localhost:8080/"
        },
        "outputId": "1a62bb09-e1a5-4794-bf3c-3b695994eea4"
      },
      "source": [
        "dictonary = {67:\"Ted\", 23:\"Marshall\", 12:\"Barney\", 45:\"Robin\", 11:\"Lily\", 73:\"Victoria\", 99:\"Tracy\"}\n",
        "\n",
        "# sort the tuple on values\n",
        "tuples  = sorted(dictonary.items(), key = lambda x:(x[1],x[0]), reverse=False)\n",
        "print('\\nSorted on values')\n",
        "for elements in tuples:\n",
        "    print(elements[0],\"::\",elements[1])"
      ],
      "execution_count": null,
      "outputs": [
        {
          "output_type": "stream",
          "name": "stdout",
          "text": [
            "\n",
            "Sorted on values\n",
            "12 :: Barney\n",
            "11 :: Lily\n",
            "23 :: Marshall\n",
            "45 :: Robin\n",
            "67 :: Ted\n",
            "99 :: Tracy\n",
            "73 :: Victoria\n"
          ]
        }
      ]
    },
    {
      "cell_type": "code",
      "metadata": {
        "id": "zuIdrS6gpve2"
      },
      "source": [
        ""
      ],
      "execution_count": null,
      "outputs": []
    }
  ]
}